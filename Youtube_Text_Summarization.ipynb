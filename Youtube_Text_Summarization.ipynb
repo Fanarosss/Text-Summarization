{
 "cells": [
  {
   "cell_type": "code",
   "execution_count": 1,
   "metadata": {},
   "outputs": [],
   "source": [
    "import pandas as pd\n",
    "import numpy as np\n",
    "import seaborn as sns\n",
    "import matplotlib.pyplot as plt\n",
    "import json\n",
    "import tensorflow as tf\n",
    "from tensorflow import keras\n",
    "from tensorflow.keras.layers import Input, Reshape, Attention, TimeDistributed, Embedding, LSTM, Bidirectional, Dropout, Dense, GRU, concatenate, Conv1D, Conv2D, Flatten,MaxPooling1D, MaxPooling2D, LocallyConnected1D, Activation, GaussianNoise, BatchNormalization, RepeatVector\n",
    "from tensorflow.keras.models import Model, Sequential\n",
    "import nltk\n",
    "from nltk.corpus import stopwords\n",
    "from AttentionWeightedAverage import AttentionWeightedAverage\n",
    "from tensorflow.keras.preprocessing.text import text_to_word_sequence\n",
    "from tensorflow.keras.preprocessing.sequence import pad_sequences\n",
    "from sklearn.preprocessing import LabelBinarizer\n",
    "from sklearn.model_selection import train_test_split"
   ]
  },
  {
   "cell_type": "markdown",
   "metadata": {},
   "source": [
    "- NLP on Title + Description to Tags, in order to build a tag recommendation algorithm\n",
    "- NLP on Tags + Description + Category to Title, in order to provide title recommendation algorithm. These videos are popular videos, meaning they have appealing titles. Let's build a system, that judging by content, can provide the most appropriate title."
   ]
  },
  {
   "cell_type": "code",
   "execution_count": 2,
   "metadata": {},
   "outputs": [
    {
     "name": "stdout",
     "output_type": "stream",
     "text": [
      "Number of youtube videos in dataframe:  40949\n"
     ]
    }
   ],
   "source": [
    "df = pd.read_csv(\"./data/USvideos.csv\")\n",
    "print('Number of youtube videos in dataframe: ', len(df.index))\n",
    "df.head()\n",
    "\n",
    "# count category occurences\n",
    "occurences = df['category_id'].value_counts()\n",
    "# category names\n",
    "map_categories = {}\n",
    "with open('data/US_category_id.json') as json_file:\n",
    "    data_category = json.load(json_file)\n",
    "    for category in data_category['items']:\n",
    "        int_id = int(category['id'])\n",
    "        occ = 0\n",
    "        if int_id in occurences:\n",
    "            occ = occurences[int_id]\n",
    "        map_categories[int_id] = [category['snippet']['title'],occ]\n",
    "# create new dataframe with categories and appearances\n",
    "df_categories = pd.DataFrame.from_dict(map_categories, orient='index', columns=['category_name', 'count'])\n",
    "# add category name on the main dataframe\n",
    "for i in map_categories.keys():\n",
    "    df.loc[df['category_id'] == i,'category_name'] = map_categories[i][0]"
   ]
  },
  {
   "cell_type": "markdown",
   "metadata": {},
   "source": [
    "### Tags, Description and Category -> Auto generate Title\n",
    "We will see a word level seq2seq model"
   ]
  },
  {
   "cell_type": "code",
   "execution_count": 3,
   "metadata": {},
   "outputs": [],
   "source": [
    "def discretize(tags):\n",
    "    tags = tags.replace('\"','')\n",
    "    discrete_tags = tags.split('|')\n",
    "    return discrete_tags"
   ]
  },
  {
   "cell_type": "code",
   "execution_count": 4,
   "metadata": {},
   "outputs": [],
   "source": [
    "df_text = df[['title', 'description', 'tags', 'category_name']]\n",
    "df_text = df_text.dropna(axis=0, how='any')\n",
    "\n",
    "titles = df_text['title'].tolist()\n",
    "descriptions = df_text['description'].tolist()\n",
    "tags = [discretize(row['tags']) for index, row in df_text.iterrows()]\n",
    "categories = df_text['category_name'].tolist()"
   ]
  },
  {
   "cell_type": "markdown",
   "metadata": {},
   "source": [
    "- Titles need to be tokenized, lowercased, categorical.\n",
    "- Descriptions need to be tokenized, lowercased, categorical.\n",
    "- Tags need to be lowercased, categorical."
   ]
  },
  {
   "cell_type": "code",
   "execution_count": 5,
   "metadata": {},
   "outputs": [],
   "source": [
    "stops = set(stopwords.words(\"english\"))"
   ]
  },
  {
   "cell_type": "code",
   "execution_count": 6,
   "metadata": {},
   "outputs": [],
   "source": [
    "clean_desc = []\n",
    "clean_title = []\n",
    "for desc in descriptions:\n",
    "    desc = desc.replace('\\\\n', ' ')\n",
    "    desc = desc.lower()\n",
    "    desc = desc.replace('www.facebook.com', 'FacebookLink')\n",
    "    desc = desc.replace('http.facebook.com', 'FacebookLink')\n",
    "    desc = desc.replace('www.twitter.com', 'TwitterLink')\n",
    "    desc = desc.replace('www.amazon.com', 'AmazonLink')\n",
    "    desc = desc.replace('http.amzn.com', 'AmazonLink')\n",
    "    desc = desc.replace('www.instagram.com', 'InstagramLink')\n",
    "    desc = desc.replace('www.snapchat.com', 'SnapchatLink')\n",
    "    desc = desc.replace('https://bit.ly', 'PortalLink')\n",
    "    temp = text_to_word_sequence(desc, filters='!\"#%&()*-+,.\\\\/:;<=>?@[\\\\]^_`{|}~\\t\\n♡▶➜', lower=True, split=' ')\n",
    "    for w in temp:\n",
    "        if w in stops:\n",
    "            temp.remove(w)\n",
    "    clean_desc.append(temp)\n",
    "    \n",
    "for title in titles:\n",
    "    title = title.replace('\\\\n', ' ')\n",
    "    title = title.replace('\\xa0', ' ')\n",
    "    seq = text_to_word_sequence(title, filters='\"#%&()*-+,.\\\\/:;<=>?@[\\\\]^_`{|}~\\t\\n♡▶➜', lower=True, split=' ')\n",
    "    clean_title.append(['START_ '] + seq + [' _END'])"
   ]
  },
  {
   "cell_type": "markdown",
   "metadata": {},
   "source": [
    "Training an unsupervised method for word2vec with gensim, in order to provide me with very good embeddings"
   ]
  },
  {
   "cell_type": "code",
   "execution_count": 7,
   "metadata": {},
   "outputs": [
    {
     "data": {
      "text/plain": [
       "(57578805, 64014370)"
      ]
     },
     "execution_count": 7,
     "metadata": {},
     "output_type": "execute_result"
    }
   ],
   "source": [
    "from gensim.models import Word2Vec\n",
    "input_features = 100\n",
    "\n",
    "gensim_model = Word2Vec(size=input_features,\n",
    "                       window=5,\n",
    "                       min_count=1,\n",
    "                       sg=1,\n",
    "                       hs=0,\n",
    "                       negative=10,\n",
    "                       workers=4)\n",
    "gensim_model.build_vocab(clean_desc+clean_title+tags)\n",
    "gensim_model.train(clean_desc+clean_title+tags, total_examples=len(clean_desc+clean_title+tags), epochs=10)"
   ]
  },
  {
   "cell_type": "markdown",
   "metadata": {},
   "source": [
    "Compute the vocabulary for the words that appear in the titles"
   ]
  },
  {
   "cell_type": "code",
   "execution_count": 8,
   "metadata": {},
   "outputs": [],
   "source": [
    "all_title_words=set()\n",
    "for title in clean_title:\n",
    "    for word in title:\n",
    "        if word not in all_title_words:\n",
    "            all_title_words.add(word)"
   ]
  },
  {
   "cell_type": "markdown",
   "metadata": {},
   "source": [
    "The encoder and decoder tokens defer, the encoder takes words from the description, while the decoder produces words from the titles"
   ]
  },
  {
   "cell_type": "code",
   "execution_count": 9,
   "metadata": {},
   "outputs": [],
   "source": [
    "num_encoder_tokens = len(gensim_model.wv.vocab)\n",
    "\n",
    "target_words = sorted(list(all_title_words))\n",
    "num_decoder_tokens = len(all_title_words)"
   ]
  },
  {
   "cell_type": "markdown",
   "metadata": {},
   "source": [
    "Creating my new sequences with vector representations of words"
   ]
  },
  {
   "cell_type": "code",
   "execution_count": 10,
   "metadata": {},
   "outputs": [],
   "source": [
    "X_train_description = []\n",
    "X_train_category = []\n",
    "X_train_tags = []\n",
    "\n",
    "lb_cat = LabelBinarizer()\n",
    "lb_cat.fit(list(set(categories)))\n",
    "\n",
    "maxLenDesc = 0\n",
    "for desc in clean_desc:\n",
    "    X_train_description.append(np.asarray([gensim_model.wv[word] for word in desc]))\n",
    "    if len(desc) > maxLenDesc:\n",
    "        maxLenDesc = len(desc)\n",
    "        \n",
    "maxLenTags = 0\n",
    "for taglist in tags:\n",
    "    X_train_tags.append(np.asarray([gensim_model.wv[tag] for tag in taglist]))\n",
    "    if len(taglist) > maxLenTags:\n",
    "        maxLenTags = len(taglist)\n",
    "\n",
    "for cat in categories:\n",
    "    X_train_category.append(lb_cat.transform([cat]))\n",
    "\n",
    "maxLenTitle = 0\n",
    "for title in clean_title:\n",
    "    if len(title) > maxLenTitle:\n",
    "        maxLenTitle = len(title)"
   ]
  },
  {
   "cell_type": "markdown",
   "metadata": {},
   "source": [
    "Create the decoder inputs and outputs. Decoder target data will be ahead by one timestep, and will not include the start character."
   ]
  },
  {
   "cell_type": "code",
   "execution_count": 11,
   "metadata": {},
   "outputs": [],
   "source": [
    "X_train_title = np.zeros(\n",
    "    (len(clean_title), maxLenTitle, input_features),\n",
    "    dtype='float32')\n",
    "\n",
    "Y_train_title = np.zeros(\n",
    "    (len(clean_title), maxLenTitle, num_decoder_tokens),\n",
    "    dtype='float32')\n",
    "\n",
    "# generate data\n",
    "for i, target_text in enumerate(clean_title):\n",
    "    for t, word in enumerate(target_text):\n",
    "        # decoder input data, will have the embeddings of the words\n",
    "        X_train_title[i, t] = gensim_model.wv[word]\n",
    "        if t > 0:\n",
    "            # decoder target data, will be ahead by one timestep, and will contain\n",
    "            # one hot representations of what word is selected\n",
    "            Y_train_title[i, t - 1, target_words.index(word)] = 1."
   ]
  },
  {
   "cell_type": "markdown",
   "metadata": {},
   "source": [
    "Pad Sequences"
   ]
  },
  {
   "cell_type": "code",
   "execution_count": 12,
   "metadata": {},
   "outputs": [],
   "source": [
    "# padding\n",
    "X_train_description = pad_sequences(X_train_description, maxlen=maxLenDesc, padding='post')\n",
    "X_train_tags = pad_sequences(X_train_tags, maxlen=maxLenTags, padding='post')\n",
    "\n",
    "# convert to numpy arrays\n",
    "X_train_description = np.stack(X_train_description, axis=0)\n",
    "X_train_category = np.stack(X_train_category, axis=0)\n",
    "X_train_tags = np.stack(X_train_tags, axis=0)"
   ]
  },
  {
   "cell_type": "markdown",
   "metadata": {},
   "source": [
    "Train - Test Split\n",
    "* Encoder inputs\n",
    "* Decoder inputs + outputs"
   ]
  },
  {
   "cell_type": "code",
   "execution_count": 13,
   "metadata": {},
   "outputs": [],
   "source": [
    "# encoder + decoder inputs\n",
    "X_train_description, X_test_description, X_train_title, X_test_title = train_test_split(X_train_description, X_train_title, test_size=0.05, shuffle=False)"
   ]
  },
  {
   "cell_type": "code",
   "execution_count": 14,
   "metadata": {},
   "outputs": [],
   "source": [
    "num_titles = len(clean_title)\n",
    "test_size = X_test_description.shape[0]\n",
    "# decoder outputs\n",
    "Y_train_title, Y_test_title = (Y_train_title[:num_titles-test_size], Y_train_title[num_titles-test_size:num_titles])"
   ]
  },
  {
   "cell_type": "markdown",
   "metadata": {},
   "source": [
    "### Attention Layer"
   ]
  },
  {
   "cell_type": "code",
   "execution_count": 15,
   "metadata": {},
   "outputs": [],
   "source": [
    "# https://github.com/thushv89/attention_keras/blob/master/layers/attention.py\n",
    "# Attention Layer implemented by thushv89\n",
    "from tensorflow.python.keras.layers import Layer\n",
    "from tensorflow.python.keras import backend as K\n",
    "\n",
    "\n",
    "class AttentionLayer(Layer):\n",
    "    \"\"\"\n",
    "    This class implements Bahdanau attention (https://arxiv.org/pdf/1409.0473.pdf).\n",
    "    There are three sets of weights introduced W_a, U_a, and V_a\n",
    "     \"\"\"\n",
    "\n",
    "    def __init__(self, **kwargs):\n",
    "        super(AttentionLayer, self).__init__(**kwargs)\n",
    "\n",
    "    def build(self, input_shape):\n",
    "        assert isinstance(input_shape, list)\n",
    "        # Create a trainable weight variable for this layer.\n",
    "\n",
    "        self.W_a = self.add_weight(name='W_a',\n",
    "                                   shape=tf.TensorShape((input_shape[0][2], input_shape[0][2])),\n",
    "                                   initializer='uniform',\n",
    "                                   trainable=True)\n",
    "        self.U_a = self.add_weight(name='U_a',\n",
    "                                   shape=tf.TensorShape((input_shape[1][2], input_shape[0][2])),\n",
    "                                   initializer='uniform',\n",
    "                                   trainable=True)\n",
    "        self.V_a = self.add_weight(name='V_a',\n",
    "                                   shape=tf.TensorShape((input_shape[0][2], 1)),\n",
    "                                   initializer='uniform',\n",
    "                                   trainable=True)\n",
    "\n",
    "        super(AttentionLayer, self).build(input_shape)  # Be sure to call this at the end\n",
    "\n",
    "    def call(self, inputs, verbose=False):\n",
    "        \"\"\"\n",
    "        inputs: [encoder_output_sequence, decoder_output_sequence]\n",
    "        \"\"\"\n",
    "        assert type(inputs) == list\n",
    "        encoder_out_seq, decoder_out_seq = inputs\n",
    "        if verbose:\n",
    "            print('encoder_out_seq>', encoder_out_seq.shape)\n",
    "            print('decoder_out_seq>', decoder_out_seq.shape)\n",
    "\n",
    "        def energy_step(inputs, states):\n",
    "            \"\"\" Step function for computing energy for a single decoder state \"\"\"\n",
    "\n",
    "            assert_msg = \"States must be a list. However states {} is of type {}\".format(states, type(states))\n",
    "            assert isinstance(states, list) or isinstance(states, tuple), assert_msg\n",
    "\n",
    "            \"\"\" Some parameters required for shaping tensors\"\"\"\n",
    "            en_seq_len, en_hidden = encoder_out_seq.shape[1], encoder_out_seq.shape[2]\n",
    "            de_hidden = inputs.shape[-1]\n",
    "\n",
    "            \"\"\" Computing S.Wa where S=[s0, s1, ..., si]\"\"\"\n",
    "            # <= batch_size*en_seq_len, latent_dim\n",
    "            reshaped_enc_outputs = K.reshape(encoder_out_seq, (-1, en_hidden))\n",
    "            # <= batch_size*en_seq_len, latent_dim\n",
    "            W_a_dot_s = K.reshape(K.dot(reshaped_enc_outputs, self.W_a), (-1, en_seq_len, en_hidden))\n",
    "            if verbose:\n",
    "                print('wa.s>',W_a_dot_s.shape)\n",
    "\n",
    "            \"\"\" Computing hj.Ua \"\"\"\n",
    "            U_a_dot_h = K.expand_dims(K.dot(inputs, self.U_a), 1)  # <= batch_size, 1, latent_dim\n",
    "            if verbose:\n",
    "                print('Ua.h>',U_a_dot_h.shape)\n",
    "\n",
    "            \"\"\" tanh(S.Wa + hj.Ua) \"\"\"\n",
    "            # <= batch_size*en_seq_len, latent_dim\n",
    "            reshaped_Ws_plus_Uh = K.tanh(K.reshape(W_a_dot_s + U_a_dot_h, (-1, en_hidden)))\n",
    "            if verbose:\n",
    "                print('Ws+Uh>', reshaped_Ws_plus_Uh.shape)\n",
    "\n",
    "            \"\"\" softmax(va.tanh(S.Wa + hj.Ua)) \"\"\"\n",
    "            # <= batch_size, en_seq_len\n",
    "            e_i = K.reshape(K.dot(reshaped_Ws_plus_Uh, self.V_a), (-1, en_seq_len))\n",
    "            # <= batch_size, en_seq_len\n",
    "            e_i = K.softmax(e_i)\n",
    "\n",
    "            if verbose:\n",
    "                print('ei>', e_i.shape)\n",
    "\n",
    "            return e_i, [e_i]\n",
    "\n",
    "        def context_step(inputs, states):\n",
    "            \"\"\" Step function for computing ci using ei \"\"\"\n",
    "            # <= batch_size, hidden_size\n",
    "            c_i = K.sum(encoder_out_seq * K.expand_dims(inputs, -1), axis=1)\n",
    "            if verbose:\n",
    "                print('ci>', c_i.shape)\n",
    "            return c_i, [c_i]\n",
    "\n",
    "        def create_inital_state(inputs, hidden_size):\n",
    "            # We are not using initial states, but need to pass something to K.rnn funciton\n",
    "            fake_state = K.zeros_like(inputs)  # <= (batch_size, enc_seq_len, latent_dim\n",
    "            fake_state = K.sum(fake_state, axis=[1, 2])  # <= (batch_size)\n",
    "            fake_state = K.expand_dims(fake_state)  # <= (batch_size, 1)\n",
    "            fake_state = K.tile(fake_state, [1, hidden_size])  # <= (batch_size, latent_dim\n",
    "            return fake_state\n",
    "\n",
    "        fake_state_c = create_inital_state(encoder_out_seq, encoder_out_seq.shape[-1])\n",
    "        fake_state_e = create_inital_state(encoder_out_seq, encoder_out_seq.shape[1])  # <= (batch_size, enc_seq_len, latent_dim\n",
    "\n",
    "        \"\"\" Computing energy outputs \"\"\"\n",
    "        # e_outputs => (batch_size, de_seq_len, en_seq_len)\n",
    "        last_out, e_outputs, _ = K.rnn(\n",
    "            energy_step, decoder_out_seq, [fake_state_e],\n",
    "        )\n",
    "\n",
    "        \"\"\" Computing context vectors \"\"\"\n",
    "        last_out, c_outputs, _ = K.rnn(\n",
    "            context_step, e_outputs, [fake_state_c],\n",
    "        )\n",
    "\n",
    "        return c_outputs, e_outputs\n",
    "\n",
    "    def compute_output_shape(self, input_shape):\n",
    "        \"\"\" Outputs produced by the layer \"\"\"\n",
    "        return [\n",
    "            tf.TensorShape((input_shape[1][0], input_shape[1][1], input_shape[1][2])),\n",
    "            tf.TensorShape((input_shape[1][0], input_shape[1][1], input_shape[0][1]))\n",
    "        ]"
   ]
  },
  {
   "cell_type": "markdown",
   "metadata": {},
   "source": [
    "### Sequence to Sequence model - seq2seq"
   ]
  },
  {
   "cell_type": "code",
   "execution_count": 16,
   "metadata": {},
   "outputs": [],
   "source": [
    "def Seq2SeqAttentionModel(vocab_size,input_max_seq,output_target_seq,input_features):\n",
    "    #encoder\n",
    "    encoder_input = Input(shape=(input_max_seq,input_features), name='main_input')\n",
    "    encoder_lstm = LSTM(100, return_sequences=True, return_state=True, name='encoder_lstm')\n",
    "    encoder_outputs, encoder_state_h, encoder_state_c = encoder_lstm(encoder_input)\n",
    "    encoder_states = [encoder_state_h, encoder_state_c]\n",
    "    \n",
    "    \n",
    "    #decoder\n",
    "    decoder_input = Input(shape=(None,input_features)) \n",
    "    decoder_lstm = LSTM(100, return_sequences=True, return_state=True, name='decoder_lstm')\n",
    "    # lstm\n",
    "    decoder_outputs, decoder_state_h, decoder_state_c = decoder_lstm(decoder_input, initial_state=encoder_states)\n",
    "    \n",
    "    # attention\n",
    "    attention_layer = AttentionLayer(name='AttentionLayer')\n",
    "    attention_out, attention_states = attention_layer([encoder_outputs,decoder_outputs])\n",
    "    \n",
    "    # concat\n",
    "    concat = concatenate([decoder_outputs, attention_out], axis=-1, name='concat_layer')\n",
    "    \n",
    "    # dense\n",
    "    decoder_dense = Dense(vocab_size, name='decoder_dense', activation='softmax')\n",
    "    decoder_dense = TimeDistributed(decoder_dense, name='time_distrib_layer')\n",
    "    decoder_outputs = decoder_dense(concat)\n",
    "    \n",
    "    # model inference\n",
    "    model = Model([encoder_input, decoder_input], decoder_outputs)\n",
    "    # compile model\n",
    "    model.compile(loss='categorical_crossentropy', optimizer=tf.keras.optimizers.Adam(lr=4e-3))\n",
    "    # encoder model\n",
    "    encoder_model = Model(encoder_input, [encoder_outputs, encoder_states])\n",
    "\n",
    "    # decoder inference\n",
    "    decoder_init_states = [Input(shape=(100,)), Input(shape=(100,))]\n",
    "    encoder_inf_outputs = Input(shape=(input_max_seq, input_features))\n",
    "    decoder_inf_outputs, state_h, state_c = decoder_lstm(decoder_input, initial_state=decoder_init_states)\n",
    "    decoder_inf_states = [state_h, state_c]\n",
    "    # attn\n",
    "    attn_inf_out, attn_inf_states = attention_layer([encoder_inf_outputs, decoder_inf_outputs])\n",
    "    decoder_inf_concat = concatenate(inputs=[decoder_inf_outputs, attn_inf_out], axis=-1, name='concat')\n",
    "    # dense\n",
    "    decoder_inf_outputs = decoder_dense(decoder_inf_concat)\n",
    "    decoder_model = Model([decoder_input, encoder_inf_outputs, decoder_init_states], [decoder_inf_outputs, attn_inf_states, decoder_inf_states])\n",
    "    \n",
    "    return model,encoder_model,decoder_model"
   ]
  },
  {
   "cell_type": "code",
   "execution_count": 19,
   "metadata": {},
   "outputs": [
    {
     "name": "stdout",
     "output_type": "stream",
     "text": [
      "Model: \"model_3\"\n",
      "__________________________________________________________________________________________________\n",
      "Layer (type)                    Output Shape         Param #     Connected to                     \n",
      "==================================================================================================\n",
      "main_input (InputLayer)         [(None, 722, 100)]   0                                            \n",
      "__________________________________________________________________________________________________\n",
      "input_5 (InputLayer)            [(None, None, 100)]  0                                            \n",
      "__________________________________________________________________________________________________\n",
      "encoder_lstm (LSTM)             [(None, 722, 100), ( 80400       main_input[0][0]                 \n",
      "__________________________________________________________________________________________________\n",
      "decoder_lstm (LSTM)             [(None, None, 100),  80400       input_5[0][0]                    \n",
      "                                                                 encoder_lstm[0][1]               \n",
      "                                                                 encoder_lstm[0][2]               \n",
      "__________________________________________________________________________________________________\n",
      "AttentionLayer (AttentionLayer) ((None, None, 100),  20100       encoder_lstm[0][0]               \n",
      "                                                                 decoder_lstm[0][0]               \n",
      "__________________________________________________________________________________________________\n",
      "concat_layer (Concatenate)      (None, None, 200)    0           decoder_lstm[0][0]               \n",
      "                                                                 AttentionLayer[0][0]             \n",
      "__________________________________________________________________________________________________\n",
      "time_distrib_layer (TimeDistrib (None, None, 11444)  2300244     concat_layer[0][0]               \n",
      "==================================================================================================\n",
      "Total params: 2,481,144\n",
      "Trainable params: 2,481,144\n",
      "Non-trainable params: 0\n",
      "__________________________________________________________________________________________________\n"
     ]
    }
   ],
   "source": [
    "epochs=1\n",
    "batch_size=64\n",
    "model,encoder_model,decoder_model = Seq2SeqAttentionModel(num_decoder_tokens,maxLenDesc,maxLenTitle,100)\n",
    "model.summary()"
   ]
  },
  {
   "cell_type": "code",
   "execution_count": 67,
   "metadata": {},
   "outputs": [
    {
     "name": "stdout",
     "output_type": "stream",
     "text": [
      "Train on 38360 samples\n",
      "38360/38360 [==============================] - 2934s 76ms/sample - loss: 0.4821\n"
     ]
    },
    {
     "data": {
      "text/plain": [
       "<tensorflow.python.keras.callbacks.History at 0x2b749a86a48>"
      ]
     },
     "execution_count": 67,
     "metadata": {},
     "output_type": "execute_result"
    }
   ],
   "source": [
    "model.fit([X_train_description, X_train_title], Y_train_title, epochs=epochs, batch_size=batch_size,verbose=1)"
   ]
  },
  {
   "cell_type": "code",
   "execution_count": 68,
   "metadata": {},
   "outputs": [],
   "source": [
    "def decode_sequence(input_seq):\n",
    "    # Encode the input as state vectors.\n",
    "    enc_pred = encoder_model.predict(input_seq)\n",
    "    encoder_outputs, h, c = enc_pred[0], enc_pred[1], enc_pred[2]\n",
    "    # Generate empty target sequence of length 1.\n",
    "    target_seq = gensim_model.wv['START_ ']\n",
    "    target_seq = target_seq.reshape((1,1,target_seq.shape[0]))\n",
    "    # Sampling loop for a batch of sequences\n",
    "    # (to simplify, here we assume a batch of size 1).\n",
    "    stop_condition = False\n",
    "    decoded_sentence = ''\n",
    "    while not stop_condition:\n",
    "        output_tokens, attention, h, c = decoder_model.predict([target_seq, encoder_outputs, h, c])\n",
    "\n",
    "        # Sample a token\n",
    "        sampled_token_index = np.argmax(output_tokens[0, -1, :])\n",
    "        sampled_word = target_words[sampled_token_index]\n",
    "        decoded_sentence += ' ' + sampled_word\n",
    "\n",
    "        # Exit condition: either hit max length\n",
    "        # or find stop character.\n",
    "        if (sampled_word == ' _END' or len(decoded_sentence) > maxLenTitle):\n",
    "            stop_condition = True\n",
    "\n",
    "        target_seq = np.append(target_seq, gensim_model.wv[sampled_word].reshape((1,1,input_features)), axis=1)\n",
    "        # Update states\n",
    "        states_value = [h, c]\n",
    "\n",
    "    return decoded_sentence"
   ]
  },
  {
   "cell_type": "code",
   "execution_count": 69,
   "metadata": {
    "scrolled": false
   },
   "outputs": [
    {
     "name": "stdout",
     "output_type": "stream",
     "text": [
      "i:  0\n",
      "Description:\n",
      " Thanks for an amazing year!(Im pretty behind on my next video.....)SomeThingElseYT: https://www.youtube.com/c/SomeThingElseYT\n",
      "\n",
      "Generated Title:   22 years it real life \n",
      "\n",
      "\n",
      "\n",
      "i:  1\n",
      "Description:\n",
      " Many musicians prefer these 300-year-old instruments, but are they actually worth it?Subscribe to our channel! http://goo.gl/0bsAjOAntonio Stradivari is generally considered the greatest violin maker of all time. His violins are played by some of the top musicians in the world and sell for as much as $16 million. For centuries people have puzzled over what makes his violins so great and they are the most scientifically studied instruments in history. I spoke to two world class violinists who play Stradivarius violins as well as a violin-maker about what makes Stradivari so great. Special thanks to Stefan Avalos for the Stradivari research footage.Vox.com is a news website that helps you cut through the noise and understand what's really driving the events in the headlines. Check out http://www.vox.com.Watch our full video catalog: http://goo.gl/IZONyEFollow Vox on Facebook: http://goo.gl/U2g06oOr Twitter: http://goo.gl/XFrZ5H\n",
      "\n",
      "Generated Title:   why are black americans\n",
      "\n",
      "\n",
      "\n",
      "i:  2\n",
      "Description:\n",
      " Check out the Massdrop x Sennheiser PC37X Gaming Headset for $119.99 USD on Massdrop at http://dro.ps/linus-pc37xBuy CORSAIR's Dark Core SE Wireless Mouse on Amazon at http://geni.us/f4ViDWe got our hands on a PROTOTYPE video card from Intel. But does it actually do anything?...Buy Intel CPUs on Amazon: http://geni.us/809gdDiscuss on the forum: https://linustechtips.com/main/topic/926958-unboxing-intels-prototype-gpu/Our Affiliates, Referral Programs, and Sponsors: https://linustechtips.com/main/topic/75969-linus-tech-tips-affiliates-referral-programs-and-sponsorsLinus Tech Tips merchandise at http://www.designbyhumans.com/shop/LinusTechTips/Linus Tech Tips posters at http://crowdmade.com/linustechtipsOur Test Benches on Amazon: https://www.amazon.com/shop/linustechtips Our production gear: http://geni.us/cvOSGet LTX 2018 tickets at https://www.ltxexpo.com/Twitter - https://twitter.com/linustechFacebook - http://www.facebook.com/LinusTechInstagram - https://www.instagram.com/linustechTwitch - https://www.twitch.tv/linustech Intro Screen Music Credit:Title: Laszlo - SupernovaVideo Link: https://www.youtube.com/watch?v=PKfxmFU3lWYiTunes Download Link: https://itunes.apple.com/us/album/supernova/id936805712Artist Link: https://soundcloud.com/laszlomusicOutro Screen Music Credit: Approaching Nirvana - Sugar High http://www.youtube.com/approachingnirvanaSound effects provided by http://www.freesfx.co.uk/sfx/\n",
      "\n",
      "Generated Title:   we got in a car \n",
      "\n",
      "\n",
      "\n",
      "i:  3\n",
      "Description:\n",
      " BEST MOM EVER! WANT TO SEE US IN NYC & NJ?!BUY TIX HERE! ➨ http://bit.ly/DobreTour WE POST TUESDAY,THURSDAY, & SUNDAY!TURN OUR POST NOTIFICATIONS ON FOR A SHOUTOUT!SUBSCRIBE TO THE DOBRE VLOG CHANNEL! https://www.youtube.com/channel/UCC3OGYxHwV8pB5yLobw9KdASUBSCRIBE TO THE LUCAS AND MARCUS CHANNEL!https://www.youtube.com/user/TwiNboTzVids Lucas's Social Media  Instagram: https://www.instagram.com/lucas_dobre/Twitter: https://twitter.com/dobrelucasFacebook: https://www.facebook.com/dobrelucas/Snapchat: lucas_dobreMusical.ly: DobreTwins Marcus's Social Media  Instagram: https://www.instagram.com/marcusdobreTwitter: https://twitter.com/dobremarcusFacebook: https://www.facebook.com/marcusdobre/Snapchat: marcusdobre1Musical.ly: DobretwinsFollow the Dobre Brothers: Instagram: https://www.instagram.com/dobrebrothers/BIZ - dobrebrothersmgmt@gmail.com THANKS FOR WATCHING!WE MADE OUR MOM CRY...HER DREAM CAME TRUE!https://www.youtube.com/user/TwiNboTzVids\n",
      "\n",
      "Generated Title:   we we our our \n",
      "\n",
      "\n",
      "\n",
      "i:  4\n",
      "Description:\n",
      " Millie is invited to help out at a Sugar Pine 7 event and she takes it VERY SERIOUSLY. Join FIRST to watch episodes early: http://bit.ly/2uRn6OxAudio from Off Topic Podcast #100http://achievementhunter.roosterteeth.com/episode/off-topic-the-achievement-hunter-podcast-2017-100-geoh5h» Get your RTAA merch: http://bit.ly/2tRKzOf» Subscribe: http://bit.ly/13y3GumAnimated by: Johnathan FloydDirected by: Andrew LhotskyAbout Rooster Teeth Animated Adventures:The animated shenanigans of the Rooster Teeth staff. Audio taken from various Rooster Teeth podcasts.More Rooster Teeth:» Achievement Hunter: http://bit.ly/AHYTChannel » Let's Play: http://bit.ly/1BuRgl1 » Red vs. Blue: http://bit.ly/RvBChannelhttps://www.youtube.com/user/RoosterTeeth\n",
      "\n",
      "Generated Title:   rooster teeth \n",
      "\n",
      "\n",
      "\n",
      "i:  5\n",
      "Description:\n",
      " Fortnite, PUBG, Far Cry 5? Which game would you play on this gaming PC setup?Visit SteelSeries.com and use discount code “Unbox15”(letters in discount code ARE case sensitive) to get an Unbox 24hr exclusive of 15% off Arctis Pro + GameDAC: http://steelseries.com/arctisproThe Chair - https://amzn.to/2Km7gC6The Monitor - https://amzn.to/2jWuQdkThe Gaming PC - https://www.xidax.com/(More info on gaming PC specs etc. in this video - https://youtu.be/Pvakr7s7qc0)Is this the ultimate gaming PC setup?_________________________________________WATCH SOME MORE VIDEOS...Get The OnePlus 6 EARLY!https://youtu.be/yCxwmH3psxg?list=PL7u4lWXQ3wfI_7PgX0C-VTiwLeu0S4v34Should You Buy The Samsung Galaxy S9?https://youtu.be/SIR67et5tcs?list=PL7u4lWXQ3wfI_7PgX0C-VTiwLeu0S4v34The True All-Screen Smartphone is Here...https://youtu.be/sYvH7Y16iUM?list=PL7u4lWXQ3wfI_7PgX0C-VTiwLeu0S4v34The TRUTH About Smartphones in 2018https://youtu.be/1kllbOrLfoo?list=PL7u4lWXQ3wfI_7PgX0C-VTiwLeu0S4v34World's Biggest Fortnite Gaming Setup!https://youtu.be/8x7UtZKwfHA?list=PL7u4lWXQ3wfI_7PgX0C-VTiwLeu0S4v34The Weirdest Phones In The World...https://youtu.be/o6T9mUq9Vgo?list=PL7u4lWXQ3wfI_7PgX0C-VTiwLeu0S4v34The Coolest Smartphone You'll Never Touch...https://youtu.be/5M3mKgLTn3Q?list=PL7u4lWXQ3wfI_7PgX0C-VTiwLeu0S4v34I'm Switching To The Samsung Galaxy S9https://youtu.be/8g-VjqONplA?list=PL7u4lWXQ3wfI_7PgX0C-VTiwLeu0S4v34The Most Expensive iPhone I've Ever Seen...https://youtu.be/JUi3psxB3QA?list=PL7u4lWXQ3wfI_7PgX0C-VTiwLeu0S4v34The Limited Smartphone You Never Knew Existed...https://youtu.be/SMLgNZYW3XE?list=PL7u4lWXQ3wfI_7PgX0C-VTiwLeu0S4v34The Almost All-Screen Smartphone...https://youtu.be/jAq9RV3k9Qc?list=PL7u4lWXQ3wfI_7PgX0C-VTiwLeu0S4v34TOP SECRET SMARTPHONE DELIVERYhttps://youtu.be/BNnFgT_CAEE?list=PL7u4lWXQ3wfI_7PgX0C-VTiwLeu0S4v34The iPhone X Home Button... Is This Real Life?https://youtu.be/Vz_EE5Ta9ZA?list=PL7u4lWXQ3wfI_7PgX0C-VTiwLeu0S4v34Fortnite on an INSANE $20,000 Gaming PChttps://youtu.be/Pvakr7s7qc0?list=PL7u4lWXQ3wfI_7PgX0C-VTiwLeu0S4v34The $200 Smartphone You NEED To Know About...https://youtu.be/uxLOfjaWRvw?list=PL7u4lWXQ3wfI_7PgX0C-VTiwLeu0S4v34This New Smartphone Is NOT What It Looks Like...https://youtu.be/r8vFZ0HAaz0?list=PL7u4lWXQ3wfI_7PgX0C-VTiwLeu0S4v34Is The Samsung Galaxy S9 Worth The Hype?https://youtu.be/g30Rhk82rmg?list=PL7u4lWXQ3wfI_7PgX0C-VTiwLeu0S4v343 Unique Gadgets You Wouldn't Expect To Existhttps://youtu.be/z5ydE6qQqZU?list=PL7u4lWXQ3wfI_7PgX0C-VTiwLeu0S4v34The Worst Gadget EVER On Unbox Therapy...https://youtu.be/ZOFoPTAqZlQ?list=PL7u4lWXQ3wfI_7PgX0C-VTiwLeu0S4v34The Worst Text You Could Ever Receive...https://youtu.be/HUE9mCN7sek?list=PL7u4lWXQ3wfI_7PgX0C-VTiwLeu0S4v34The Essential Phone Is Back!https://youtu.be/ZxOmJfCEgoc?list=PL7u4lWXQ3wfI_7PgX0C-VTiwLeu0S4v34What If You Could Get AirPods For Only $40? https://youtu.be/6N5V_7_n1uI?list=PL7u4lWXQ3wfI_7PgX0C-VTiwLeu0S4v34I Bought The Cheapest Smartphone on Amazon...https://youtu.be/YkGAg9WmYBs?list=PL7u4lWXQ3wfI_7PgX0C-VTiwLeu0S4v343 Unique Gadgets You Can Buy Right Nowhttps://youtu.be/Yzsf9SECcEo?list=PL7u4lWXQ3wfI_7PgX0C-VTiwLeu0S4v34DON'T Buy The Google Pixel Budshttps://youtu.be/lGkrhR2mfl8?list=PL7u4lWXQ3wfI_7PgX0C-VTiwLeu0S4v34How To Turn Any Android Phone Into An iPhone...https://youtu.be/14pYNywLqDs?list=PL7u4lWXQ3wfI_7PgX0C-VTiwLeu0S4v34Is The LG V30 The Most Underrated Smartphone?https://youtu.be/YsWIHhKmmvY?list=PL7u4lWXQ3wfI_7PgX0C-VTiwLeu0S4v34The Best Wireless Headphones You Can Buy Right Nowhttps://youtu.be/SXyObZahu-o?list=PL7u4lWXQ3wfI_7PgX0C-VTiwLeu0S4v34Unboxing The Samsung Galaxy S9 Clonehttps://youtu.be/1xgbmrsgrq4?list=PL7u4lWXQ3wfI_7PgX0C-VTiwLeu0S4v34It Has Double The Battery of iPhone Xhttps://youtu.be/8Np9Kk82-zA?list=PL7u4lWXQ3wfI_7PgX0C-VTiwLeu0S4v34The Mind Blowing 33 Million Pixel Display...https://youtu.be/OKAU1Xx59ho?list=PL7u4lWXQ3wfI_7PgX0C-VTiwLeu0S4v345 Cool Gadgets Under $10https://youtu.be/hNrSNrEVpkQ?list=PL7u4lWXQ3wfI_7PgX0C-VTiwLeu0S4v34Which Smartphone Do They ACTUALLY Use? --- MKBHD, Austin Evans, Linus + Morehttps://youtu.be/Hi2tjMLVpdQ?list=PL7u4lWXQ3wfI_7PgX0C-VTiwLeu0S4v34Unboxing The World's Smallest Phonehttps://youtu.be/SSzyGCjH88o?list=PL7u4lWXQ3wfI_7PgX0C-VTiwLeu0S4v34The Most RIDICULOUS MacBook Prohttps://youtu.be/46qTg3swoEo?list=PL7u4lWXQ3wfI_7PgX0C-VTiwLeu0S4v34A Message from Apple...https://youtu.be/UiaqBdzCcBA?list=PL7u4lWXQ3wfI_7PgX0C-VTiwLeu0S4v344 Unique iPhone Accessorieshttps://youtu.be/uZgnXJz_9DM?list=PL7u4lWXQ3wfI_7PgX0C-VTiwLeu0S4v34DON'T Buy The iPhone Xhttps://youtu.be/2fGXDFiFBhg?list=PL7u4lWXQ3wfI_7PgX0C-VTiwLeu0S4v34FOLLOW ME IN THESE PLACES FOR UPDATESTwitter - http://twitter.com/unboxtherapyFacebook - http://facebook.com/lewis.hilsentegerInstagram - http://instagram.com/unboxtherapyGoogle Plus - http://bit.ly/1auEeak\n",
      "\n",
      "Generated Title:   the ultimate $30 000 000\n",
      "\n",
      "\n",
      "\n"
     ]
    },
    {
     "name": "stdout",
     "output_type": "stream",
     "text": [
      "i:  6\n",
      "Description:\n",
      " With a busy schedule, Jocko Willink finds time to get everything done by waking up before everyone else does. Willink, former Navy SEAL and author of Way of the Warrior Kid explains the one habit from service that he can't shake.For the full interview, search for Success! How I Did It on Apple Podcasts or your favorite app. https://itunes.apple.com/us/podcast/success-how-i-did-it/id1205997729?mt=2 Business Insider tells you all you need to know about business, finance, tech, science, retail, and more.Subscribe to our channel and visit us at: http://www.businessinsider.com/BI on Facebook: https://www.facebook.com/businessinsider/BI on Instagram: https://www.instagram.com/businessinsider/BI on Twitter: https://twitter.com/businessinsider--------------------------------------------------Following is a transcript of the video:Richard Feloni: Are there some things from your service that you can't shake? So for example, you still wake up at 4:30 in the morning, to go workout, what was it about your time in the Seals, that you wanted to keep these habits up?Jocko Willink: They're good habits, why would you not wake up at 4:30?Richard Feloni: Well what does this bring to you?Jocko Willink: Waking up early? You just get a jump on the day. The reason I wake up at 4:30 in the morning is because no one else is awake yet, so that gives me the opportunity to do things that I need to get done, kinda selfishly for myself, and the big one in that category is working out. And it doesn't feel good at 4:30 when you get up, but by the time 7 o'clock rolls around, and you've already worked out, and you've already got some work done, and you've got some time to say goodbye to your kids before they go to school? It's infinitely better than sleeping in until 6:45, and you get out of bed, and now you've missed your kids going to school, or whatever. You're not prepared for the day, it's awful.Feloni: So if someone, maybe they don't have time to work out or they just need something that could be like a quick fix, is there something that you recommend?Willink: Oh yeah, workouts don't have to take a long time. Workouts can be very quick. Matter of fact, go do two minutes of burpees, as many burpees as you can, in two minutes, or four minutes, or six minutes, go and sprint, go and do anything very intensely, for a short period of time and you'll get great benefit out of it.Feloni: Something I'm sure you hear a lot is 4:30, like this either just can't fit into my schedule, or if I'm gonna be realistic, I'm probably not gonna wake up at 4:30, what do you tell people who say that?Willink: Yeah, and there's people that work night shifts, and there's people that it's unhealthy for them, they can't fall as-- it's like no, be healthy, get enough sleep, but, first of all, wake up at the same time every day and, if you pick that time and you start waking up at the same time every day, that's very good for you. It doesn't have to be 4:30, it could be 6:30, it could be 7, I don't know what your personal schedule is, but find out a time, pick it, set it, stick to it, and maintain that schedule, and that's gonna end up better for you.I recommend it's earlier. I recommend that you go to bed earlier, 'cause what are you doing at night, most of the time? Most of the time at night, you're not working on anything super productive, you're just winding down and watching stupid YouTube videos, or surfing the internet, reading clickbait stories, right? Don't do that, instead, go to sleep, and then wake up early.Feloni: Could you explain that notion of discipline equals freedom?Willink: If you want more freedom in your life, you have to have more discipline. If you don't have any discipline, you'll end up with absolutely no freedom, you'll end up being a slave to other people that boss you around. There's all kind of problems that can occur, if you don't have discipline in your life. And the more discipline you have, the more freedom you're gonna have.Feloni: So just the discipline of the Seals, will never-- it's impossible to leave?Willink: No, it's possible to leave, there's retired seals all over the place that are undisciplined. They've moved on, and they don't care about that anymore. It's fine, I don't judge other people on what they're doin', like they're probably stoked to sleep in and hang out with their kids, and eat breakfast in bed, that's fine. I don't have anything against that. But for me? I wanna get up and go.\n",
      "\n",
      "Generated Title:   why you should you should\n",
      "\n",
      "\n",
      "\n",
      "i:  7\n",
      "Description:\n",
      " I'm always on the lookout for new amazing buffets, and when I heard that AB's had all you can eat kebabs, I knew I had to go. ****MORE EXCLUSIVE Content on Instagram:**** http://instagr.am/Mikexingchenhttp://instagr.am/haveadumplingLOCATIONhttps://www.zomato.com/hyderabad/abs-absolute-barbecues-jubilee-hills➨Get tickets to the best show on earth!!! http://bit.ly/2gu7REI❖Support me on Patreon (I post FOOD MAPS): http://bit.ly/2lc36omStrictly Dumpling T-Shirts HERE: http://bit.ly/2jDiyGB►Subscribe for MORE videos about food! http://bit.ly/1hsxh41▲ Subscribe to our COOKING Channel! http://bit.ly/2vz2UPT------------------------------------------------------------------------------------------★↓FOLLOW ME ON SOCIAL MEDIA!↓★Facebook Show Page: https://www.facebook.com/strictlydumplingFacebook Mike Fan Page: https://www.facebook.com/mikeychenxStrictly Dumpling Instagram: http://instagr.am/haveadumplingPersonal Instagram: http://instagr.am/MikexingchenTwitter: http://twitter.com/MikexingchenTwitch: https://www.twitch.tv/mikexchen◈ Equipment I use for filming◈ :Sony RX100 Mark V http://amzn.to/2fZwuMGPANASONIC LUMIX G85 http://amzn.to/2wx2j5GWide Angle Lens http://amzn.to/2g0bbdCCamera Mic: http://amzn.to/2fZf4j6Camera Lights: http://amzn.to/2vXypVKHandheld Audio Recorder: http://amzn.to/2xlmPTOTripod: http://amzn.to/2vXA5yEDrone: http://amzn.to/2x6KqIIMy Favorite Cookware!wok/pan http://amzn.to/2f5G0upAlso this pan http://amzn.to/2f5QnyiPressure pan http://amzn.to/2wJIS7uNonstick pot http://amzn.to/2wHRgq1✉Send stuff to our PO Box!Mike Chen PO Box 610 Middletown, NY 10940♩ ♫\n",
      "\n",
      "Generated Title:   luxurious all you can eat\n",
      "\n",
      "\n",
      "\n",
      "i:  8\n",
      "Description:\n",
      " 'unicorn' special performance - Tommorrow ▶ Playlist for THIS episodes → https://www.youtube.com/playlist?list=PLtqYizcPqxZTgnC5cRunCVf0risGo8oFs▶ More ‘Mask King’ clips are available↓↓↓↓↓↓↓↓↓↓↓↓【Mask King】.‘Mask King’ is a competition between 8 celebrities compeletely hidden from mask while they sing. The program focuses on the stars singing abilities and guesses whose faces are hidden behind a mask. Reported by 'Mask King' team, the line up or singer casting will be kept as a secret for each week.★★★More Mask king clips are available★★★YouTube     https://www.youtube.com/MBCbentertainmentFacebook    https://www.facebook.com/mbcmasksingersNaver         http://tvcast.naver.com/maskDaum         http://tvpot.daum.net/mypot/View.do?ownerid=45x1okb1If50&playlistid=5158402Homepage   http://www.imbc.com/broad/tv/ent/sundaynight\n",
      "\n",
      "Generated Title:   king of masked singer 복면가왕\n",
      "\n",
      "\n",
      "\n",
      "i:  9\n",
      "Description:\n",
      " A war has been raging for billions of years, killing trillions every single day, while we don’t even notice. This war involves the single deadliest being on our planet: The Bacteriophage.Created with scientific advice and editing by James Gurney.  Kurzgesagt Newsletter: http://eepurl.com/cRUQxzSupport us on Patreon so we can make more videos (and get cool stuff in return): https://www.patreon.com/Kurzgesagt?ty=hKurzgesagt merch:  https://bit.ly/2GeuQxZFacebook: http://bit.ly/1NB6U5OTwitter: http://bit.ly/2DDeT83Instagram: http://bit.ly/2DEN7r3Discord: https://discord.gg/FsstncsThe music of the video here: Soundcloud: https://bit.ly/2IcLhRpBandcamp: https://bit.ly/2IiETnIFacebook: https://bit.ly/2GIoZlHTHANKS A LOT TO OUR LOVELY PATRONS FOR SUPPORTING US:Luca Perfetti, Ramkumar Ranjithkumar, Dan Albert, Bryce, Gregor Gatterer, Benjamin Schrank, Zsuzsanna Goodman, Dale Wahl, Richard, Bruno Mikuö, Josh Villars, Richelle Swinton, WeedyGreen, Turrabo, Nirup Nagabandi, Kevin Kohler, Travis Decaminada, Levi Mauk, Jack McCluskey, Jonathan Lucas, Clemens P¸hringer, Chloe Arvidson, Jason Brady, Germain Wessely, ROBERT MELTON, Rodrigo Acevedo, Kathleen Kintz, Wrekuiem, Michael Hoffman, Nikhil Verma, Darragh Chan, Kinorian, Rohith Rao, Ryan Thomson, Alberto Amigo, Matt Bodsworth, david bibb, Harrison Frede, Joseph Ricks, Taylor Smith, Ilya Tsarev, Mohammad Farzam, Tazia, Sarah Turney, Sammy Binkin, Brian Michalowski, Jiayuan Xu, Thomas Hair, Alexander Simmerl, Sven Rauber, Graham Fenech, Lumi, Stanimir Neroev, Michael Massen-Hane, Arikazei, Aakash Sapre, Sandra Giuliani, Eischen, Edznux, Alex Friele, Alexandru Dimofte, Clayton Ackroyd, Aran J‰ger, Kristiana Sevastjanova, Nadine Gantner, art haschak, Von Schifferdecker, Michael Tabron, Riley Kennedy, JP Michaud, Timo Kohlmeyer, Xavier dupont, Felipe Medeiros, Malte Brendel, Michael Newbon, Hadar Milner, Peppie THelp us caption & translate this video!http://www.youtube.com/timedtext_cs_panel?c=UCsXVk37bltHxD1rDPwtNM8Q&tab=2The Deadliest Being on Planet Earth – The Bacteriophage\n",
      "\n",
      "Generated Title:   the deadliest being a deadliest\n",
      "\n",
      "\n",
      "\n"
     ]
    },
    {
     "name": "stdout",
     "output_type": "stream",
     "text": [
      "i:  10\n",
      "Description:\n",
      " MEANING OF LIFE available now: https://Atlantic.lnk.to/MeaningoflifeIDShop “I Don’t Think About You” Merch: http://smarturl.it/IDTAYMerchFollow Kelly Clarkson: https://kellyclarkson.com/https://www.facebook.com/kellyclarksonhttps://twitter.com/kelly_clarksonhttps://www.instagram.com/kellyclarkson/\n",
      "\n",
      "Generated Title:   kelly clarkson meaning\n",
      "\n",
      "\n",
      "\n",
      "i:  11\n",
      "Description:\n",
      " NanoDots master builder, Edo, turned a huge pile of 25,000 NanoDots magnets into the Infinity Gauntlet from Avengers: Infinity War.Buy here and learn how to build cool Nanodots structures: https://www.vat19.com/item/nanodots-spherical-neodymium-magnets?adid=youtubeSubscribe to Vat19: http://www.youtube.com/subscription_center?add_user=vat19comEdo's channel: https://www.youtube.com/user/EdoTimmermans****************** Follow Vat19:Facebook: https://facebook.com/vat19Instagram: https://instagram.com/vat19/Twitter: https://twitter.com/vat19Shop hundreds more curiously awesome products:https://www.vat19.com/?adid=youtubeWatch More Vat19:Latest Uploads: https://www.youtube.com/user/vat19com/videos?shelf_id=1&view=0&sort=ddPopular Videos: https://www.youtube.com/user/vat19com/videos?shelf_id=7&view=0&sort=pThe Sample Room: https://www.youtube.com/watch?v=jL1JK0U6s28&list=PLSqiExuEA-RG_aF5u4q5gEvJiUfoa6l25Fun Stuff to Eat: https://www.youtube.com/watch?v=7RXmNRr8x7I&list=PLSqiExuEA-REt5gzR0A9ernZNHlZ2glIlAbout Vat19:Vat19 is dedicated to curiously awesome gifts, candy, toys, gummy, putty, puzzles, games, and more! In addition to making funny commercials you'll actually want to watch, we produce amazing challenge videos, document our outrageous contraptions, and invite you to a front row seat for our silly stunts. Sometimes we blow things up, fill up a bathtub or pool with crazy stuff, dare each other to eat super spicy foods, and answer “burning questions” from our viewers.\n",
      "\n",
      "Generated Title:   we built a day \n",
      "\n",
      "\n",
      "\n",
      "i:  12\n",
      "Description:\n",
      " Play Fortnite for FREE here: https://pixly.go2cloud.org/SHcpThanks to Epic Games for sponsoring this video  Order my book how to write good http://higatv.com/ryan-higas-how-to-write-good-pre-order-links/Just Launched New Official Storehttps://www.gianthugs.com/collections/ryanHigaTV Channelhttp://www.youtube.com/higatvTwitterhttp://www.twitter.com/therealryanhigaFacebookhttp://www.facebook.com/higatvWebsitehttp://www.higatv.comInstagramhttp://www.instagram.com/notryanhigaSend us mail or whatever you want here!PO Box 232355Las Vegas, NV 89105\n",
      "\n",
      "Generated Title:   fortnite the movie \n",
      "\n",
      "\n",
      "\n",
      "i:  13\n",
      "Description:\n",
      " Rita Ora 'Girls' ft. Cardi B, Bebe Rexha & Charli XCX is out now: http://atlanti.cr/girls Video by Everyone's Favourite: http://everyonesfavourite.net ----► Follow Rita Orahttp://www.ritaora.comhttp://youtube.com/ritaorahttp://twitter.com/ritaorahttp://facebook.com/ritaorahttp://instagram.com/ritaorahttp://www.ritaora.com/\n",
      "\n",
      "Generated Title:   rita ora ft big sean stefflon\n",
      "\n",
      "\n",
      "\n",
      "i:  14\n",
      "Description:\n",
      " Voicenotes Available Now: https://Atlantic.lnk.to/VoicenotesIDExclusive Voicenotes Merchandise Bundles Available Here: http://smarturl.it/VoiceNotesD2CYTFollow Charlie:http://www.charlieputh.com http://www.twitter.com/charlieputh http://www.facebook.com/charlieputh http://www.instagram.com/charlieputhhttps://soundcloud.com/charlieputh\n",
      "\n",
      "Generated Title:   charlie puth \n",
      "\n",
      "\n",
      "\n",
      "i:  15\n",
      "Description:\n",
      " Get 'Back To You,' out now: http://smarturl.it/13ReasonsSoundtrackPreorder 13 Reasons Why Bundles: http://smarturl.it/13RYsoundtrack Subscribe to Selena's 13 Reasons Why Playlist: http://smarturl.it/13ReasonsPlaylistGet exclusive Selena Gomez merch, available at: http://smarturl.it/SelenaStoreSign-up to be the first to hear news from Selena: http://smarturl.it/SelenaGomez.NewsBest of Selena Gomez https://goo.gl/mgJg2sSelena Gomez Audio https://goo.gl/dmJYbdSubscribe for more https://goo.gl/2bTuprIf you or someone you know needs help finding crisis resources, visit: www.13ReasonsWhy.infoIf you are immediately concerned about yourself or a friend, reach out for help. TEXT: 741741www.crisistextline.orgFree, 24/7, confidential. National Suicide Prevention LifelineDIAL: 1-800-273-8255www.suicidepreventionlifeline.orgwww.thetrevorproject.orgProviding crisis and suicide intervention and prevention services for LGBTQ youth.\n",
      "\n",
      "Generated Title:   selena gomez gomez gomez\n",
      "\n",
      "\n",
      "\n",
      "i:  16\n",
      "Description:\n",
      " I worked with professional organizer Ashley Moon Stanfield from HOARDERS to help me get my life together when I moved apartments and it changed my life! See below for all the products we used to get more organized!FOLLOW ASHLEY! Become more organized and mindful!http://www.creativelyneat.com/ Find more info & book appointments with Ashley!http://moreclutterfree.com/ Subscribe for a FREE organization video series!https://www.youtube.com/channel/UC0Zr2J3yca3e10GTfCT7Kxg Instagram: https://www.instagram.com/creativelyneat/ Twitter: https://twitter.com/CreativelyNeat/ Facebook: https://www.facebook.com/creativelyneatprofessionalorganizing/ 🔥 SUBSCRIBE TO GO ON MORE ADVENTURES: http://bit.ly/21ajG1S🐧 TWITTER: http://www.twitter.com/michellekhare📷 INSTAGRAM: http://www.instagram.com/michellekhare👯  FACEBOOK: https://www.facebook.com/Michelle-Khare👻 SNAPCHAT : MichelleKhare🎵 MUSICAL.LY: Michelle KhareEVERY PRODUCT WE USED!Shoe Rack: https://goo.gl/mXQN5kFolding stool (not pictured): https://goo.gl/JDQhA3Spice Rack: https://goo.gl/hf3Ar1Shower Tower: https://goo.gl/xCiWGkKitchen Drawer Organizer: https://goo.gl/M77hptElectric Trash Can: https://goo.gl/9SKSvxMakeup Drawer Organizer (Expandable): https://goo.gl/2ZZ2kf\n",
      "\n",
      "Generated Title:   i got my apartment professionally\n",
      "\n",
      "\n",
      "\n",
      "i:  17\n",
      "Description:\n",
      " Spotify: http://radi.al/NewLightSpotifyApple: http://radi.al/NewLightAppleAmazon: http://radi.al/NewLightAMZJohn Mayer“New Light”I’m the boy in your other phoneLighting up inside your drawer at home all alonePushin 40 in the friend zoneWe talk and then you walk away every dayOh you don’t think twice bout meAnd maybe you’re right to doubt me butBut if you give me just one nightYou’re gonna see me in a new lightYeah if you give me just one nightTo meet you underneath the moonlightOh I want a take twoI wanna break throughI wanna know the real thing about youSo I can see you in a new lightTake a ride up to MalibuI just wanna sit and look at you, look at youWhat would it matter if your friends knewWho cares what other people say anywayOh we can go far from hereAnd make a new world together babe‘Cause if you give me just one nightYou’re gonna see me in a new lightYeah, if you give me just one nightTo meet you underneath the moonlightOh I want a take twoI wanna break throughI wanna know the real thing about youSo I can see you in a new lightYeah if you give me just one nightYou’re gonna see me in a new lightYeah if you give me just one nightTo meet you underneath the moonlightWhat do I do with all this, what do I do with all thisLove that's runnin through my veins for youWhat do I do with all this, what do I do with all thisLove that's runnin through my veins for youWhat do I do with all this, what do I do with all thisLove that's runnin through my veins for youWhat do I do with all this, what do I do with all this\n",
      "\n",
      "Generated Title:   john mayer \n",
      "\n",
      "\n",
      "\n",
      "i:  18\n",
      "Description:\n",
      " Labrinth, Sia & Diplo present LSD - Audio (Official Video)Stream LSD’s Audio: http://smarturl.it/LSD-AudioSpotify: http://smarturl.it/LSD-Audio/SpotifyiTunes: http://smarturl.it/LSD-Audio/iTunesApple Music:  http://smarturl.it/LSD-Audio/AppleMusicGoogle Play: http://smarturl.it/LSD-Audio/GooglePlayAmazon Music: http://smarturl.it/LSD-Audio/AzDeezer http://smarturl.it/LSD-Audio/Deezer Lyrics:(Sia)We got a rideWe got the nightI got the bottleyou got the lightwe got the starsWe got audio we’re gonna flywe’re getting highyou got the moondusti got the skywe got the starswe got audio Make the bomb bomb beat I’ll give you melodyMake the bomb bomb beat I’ll give you melodyMake the song so sweet you gone come home with meOhMake the bomb bomb beat I’ll give you melodyMake the bomb bomb beat I’ll give you melodyMake the song so sweet you gone come home with meOh Play that AudioPlay that Audio (Labrinth) we got the heartwe got the souljust when the worlds saying they got no hopehere comes the lovewe got audioI’m flyin high super heroS on my chest with my Marilyn MonroeFeel like a starCuz we got audio Make the bomb bomb beat I’ll give you melodyMake the bomb bomb beat I’ll give you melodyMake the song so sweet you gone come home with meOhMake the bomb bomb beat I’ll give you melodyMake the bomb bomb beat I’ll give you melodyMake the song so sweet you gone come home with meOh  Play that AudioPlay that Audio We can’t live on…Without the rhythmWe can’t live on….Without the rhythmWe can’t live on…Without the rhythmWe can’t live on….Without the rhythmWe can’t live on…Without the rhythmWe can’t live on….Without the rhythmWe can’t live on…Without the rhythmWe can’t live on….Without the rhythm (Can't live without rhythm adlib) Credits:Director: Ernest DesumbilaProducers: Jeff Kopchia, Bryan Younce Prod Co: FREENJOY, Inc.EP: Nathan Scherrer DP: Trevor WinemanChoreographer: Nina McNeely Post production: http://sauvage.tv Special Thanks: Iconoclast\n",
      "\n",
      "Generated Title:   lsd audio \n",
      "\n",
      "\n",
      "\n",
      "i:  19\n",
      "Description:\n",
      " Hello guys, it’s me Hulk Tutorials, hello! HAHA! Today I’m challenging myself and doing a full makeup look using only the color GREEN! …..and I HATE green!!! Let’s see if I can make Kermit the Frog proud!Make sure you subscribe to my channel and hit the notification bell, so you don’t miss any of my new videos → http://bit.ly/SubscribeNikkieTutorials▷ Have you seen my previous video? PATRICKSTARRR TRANSFORMING ME INTO PATRICKSTARRR → https://youtu.be/duXW_wPTw0o••••••••••••••••••••••••••••••••••••••••­­­•••••••••••💎 DISCOUNT CODES 💎MORPHE BRUSHES ⋆ http://morphebrushes.comDiscount Code: NikkieThis discount code does NOT expire. Can be used online + in their Burbank, California store.••••••••••••••••••••••••••••••••••••••••­­­•••••••••••▷ PRODUCTS USED IN THIS VIDEO:BASE ⋆QMS Moiturizing Balance ‣ http://bit.ly/2wsd6iU ( use code NIKKIE to save $$ )Tatcha The Silk Canvas Primer ‣ http://bit.ly/2Fh9eAvNARS Natural Radiant Foundation “Mont Blanc” ‣ http://bit.ly/2KdpbLWCoverFX Power Play Foundation #N10 ‣ http://bit.ly/2Kckh1ANARS Soft Matte Complete Concealer ‣ http://bit.ly/2gh5SmXMaybelline Fit Me Loose Powder #05 ‣ http://bit.ly/2vc5W0OCHEEKS ⋆MAC Next to Nothing Pressed Powder “Medium Dark” ‣ http://bit.ly/2CFutMmRodial Instaglam Deluxe Bronzing Powder #3 ‣ http://bit.ly/2l4rdjHNARS Wanted Cheek Palette ‣ http://bit.ly/2KeGtrkMakeup Addiction Cosmetics “Holy Glow Vol 2” ‣ http://bit.ly/2KSN8btEYES ⋆P. Louise Base ‣ http://bit.ly/2r3Gt5wInglot Matte Eyeshadows ‣ http://bit.ly/2oYRoP0P. Louise Pigment “Icy” ‣ http://bit.ly/2I8xJq0Makeup Addiction Cosmetics “Holy Glow Vol 2” ‣ http://bit.ly/2KSN8btMaybelline Total Temptation Waterproof Mascara ‣ http://bit.ly/2r2hKOLBenefit Cosmetics BADgal BANG! Mascara (lower lashes) ‣ http://bit.ly/2Jrg3lCLilly Lashes “Lush” Lashes ‣ http://bit.ly/2otEUx5 ( use code NIKKIE to save $$ )LIPS ⋆Coloured Raine Matte Lip Paint “Ivy” ‣ http://bit.ly/2ruqK0f ( use code NIKKIE to save $$ )••••••••••••••••••••••••••••••••••••••••­­­•••••••••••▷ LET’S BECOME FRIENDS!!BLOG ‣ http://www.nikkietutorials.comTWITTER ‣ http://www.twitter.com/NikkietutorialsINSTAGRAM ‣ https://instagram.com/nikkietutorials/SNAPCHAT ‣ https://www.snapchat.com/add/nikkietutorialsFACEBOOK ‣ http://www.facebook.com/NikkieTutorials▷ OTHER VIDEOS YOU CAN CHECK OUT…….👑 THE POWER OF MAKEUP ► http://bit.ly/2scYIrE💑 BOYFRIEND DOES MY MAKEUP ► http://bit.ly/2r2K0yM🎀 FULL FACE USING ONLY MY MOM'S MAKEUP CHALLENGE ► http://bit.ly/2BX76Nw🍑 POWER OF MAKEUP: KIM KARDASHIAN WEST ► http://bit.ly/2iz1RhT••••••••••••••••••••••••••••••••••••••••­­­•••••••••••♫ Music By ♫Music by Chillhop: Chillhop Essentials - Fall 2017: https://youtu.be/FsKom00Xk-UListen on Spotify: http://bit.ly/ChillhopSpotifyDisclaimer ‣ This video is NOT sponsored by any of the brands mentioned throughout this video. All thoughts mentioned are my own. Some affiliate links are used. They do not cost you anything, but I make a small percentage from the sale. Honesty is key on my channel, thank you for supporting me!ʕ•ᴥ•ʔ I love you.\n",
      "\n",
      "Generated Title:   the green challenge! nikkietutorials\n",
      "\n",
      "\n",
      "\n"
     ]
    }
   ],
   "source": [
    "i = 0\n",
    "for i in list(range(20)):\n",
    "    title_generated = decode_sequence(X_test_description[i].reshape((1,X_test_description.shape[1],X_test_description.shape[2])))\n",
    "    print(\"i: \", i)\n",
    "    print(\"Description:\\n\",descriptions[-test_size+i])\n",
    "    print(\"\\nGenerated Title: \", title_generated.replace(' _END', ''))\n",
    "    print(\"\\n\\n\")\n",
    "    i+=1"
   ]
  },
  {
   "cell_type": "code",
   "execution_count": null,
   "metadata": {},
   "outputs": [],
   "source": []
  }
 ],
 "metadata": {
  "kernelspec": {
   "display_name": "Python 3",
   "language": "python",
   "name": "python3"
  },
  "language_info": {
   "codemirror_mode": {
    "name": "ipython",
    "version": 3
   },
   "file_extension": ".py",
   "mimetype": "text/x-python",
   "name": "python",
   "nbconvert_exporter": "python",
   "pygments_lexer": "ipython3",
   "version": "3.7.7"
  }
 },
 "nbformat": 4,
 "nbformat_minor": 4
}
